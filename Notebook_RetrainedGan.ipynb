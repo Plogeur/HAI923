{
  "nbformat": 4,
  "nbformat_minor": 0,
  "metadata": {
    "colab": {
      "provenance": [],
      "authorship_tag": "ABX9TyPTj05Frze35oFx+/NiCJvx",
      "include_colab_link": true
    },
    "kernelspec": {
      "name": "python3",
      "display_name": "Python 3"
    },
    "language_info": {
      "name": "python"
    }
  },
  "cells": [
    {
      "cell_type": "markdown",
      "metadata": {
        "id": "view-in-github",
        "colab_type": "text"
      },
      "source": [
        "<a href=\"https://colab.research.google.com/github/Plogeur/HAI923/blob/master/Notebook_RetrainedGan.ipynb\" target=\"_parent\"><img src=\"https://colab.research.google.com/assets/colab-badge.svg\" alt=\"Open In Colab\"/></a>"
      ]
    },
    {
      "cell_type": "code",
      "source": [
        "from google.colab import drive\n",
        "drive.mount('/content/gdrive/')\n",
        "%cd gdrive/MyDrive/Colab Notebooks/HAI923/\n",
        "path = %pwd\n",
        "%mkdir Résultats/GAN"
      ],
      "metadata": {
        "id": "8i8Gd8UAobLx"
      },
      "execution_count": null,
      "outputs": []
    },
    {
      "cell_type": "code",
      "execution_count": null,
      "metadata": {
        "id": "J-p3H5aXoU0J"
      },
      "outputs": [],
      "source": [
        "!git clone https://github.com/NVlabs/stylegan3.git"
      ]
    },
    {
      "cell_type": "code",
      "source": [
        "# Scaled down 128x128 resolution.\n",
        "!python dataset_tool.py --source=/tmp/images1024x1024 --dest=~/datasets/ffhq-128x128.zip --resolution=128x128"
      ],
      "metadata": {
        "id": "3VQ15LtBoa8m"
      },
      "execution_count": null,
      "outputs": []
    },
    {
      "cell_type": "code",
      "source": [
        "# Train StyleGAN3-T for AFHQv2 using 8 GPUs.\n",
        "!python train.py --outdir=~/training-runs --cfg=stylegan3-t --data=~/datasets/afhqv2-512x512.zip \\\n",
        "    --gpus=8 --batch=32 --gamma=8.2 --mirror=1\n",
        "\n",
        "# Fine-tune StyleGAN3-R for MetFaces-U using 1 GPU, starting from the pre-trained FFHQ-U pickle.\n",
        "!python train.py --outdir=~/training-runs --cfg=stylegan3-r --data=~/datasets/metfacesu-1024x1024.zip \\\n",
        "    --gpus=8 --batch=32 --gamma=6.6 --mirror=1 --kimg=5000 --snap=5 \\\n",
        "    --resume=https://api.ngc.nvidia.com/v2/models/nvidia/research/stylegan3/versions/1/files/stylegan3-r-ffhqu-1024x1024.pkl\n",
        "\n",
        "# Train StyleGAN2 for FFHQ at 1024x1024 resolution using 8 GPUs.\n",
        "!python train.py --outdir=~/training-runs --cfg=stylegan2 --data=~/datasets/ffhq-1024x1024.zip \\\n",
        "    --gpus=8 --batch=32 --gamma=10 --mirror=1 --aug=noaug"
      ],
      "metadata": {
        "id": "u-vknkW_oa68"
      },
      "execution_count": null,
      "outputs": []
    },
    {
      "cell_type": "code",
      "source": [
        "# Previous training run: look up options automatically, save result to JSONL file.\n",
        "!python calc_metrics.py --metrics=eqt50k_int,eqr50k \\\n",
        "    --network=~/training-runs/00000-stylegan3-r-mydataset/network-snapshot-000000.pkl\n",
        "\n",
        "# Pre-trained network pickle: specify dataset explicitly, print result to stdout.\n",
        "!python calc_metrics.py --metrics=fid50k_full --data=~/datasets/ffhq-1024x1024.zip --mirror=1 \\\n",
        "    --network=https://api.ngc.nvidia.com/v2/models/nvidia/research/stylegan3/versions/1/files/stylegan3-t-ffhq-1024x1024.pkl"
      ],
      "metadata": {
        "id": "dCyAuVCxoa4w"
      },
      "execution_count": null,
      "outputs": []
    }
  ]
}